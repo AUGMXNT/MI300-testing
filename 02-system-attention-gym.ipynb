{
 "cells": [
  {
   "cell_type": "code",
   "execution_count": 1,
   "id": "2f174360-dfdf-4999-b351-bfbfaf6276e8",
   "metadata": {},
   "outputs": [
    {
     "name": "stdout",
     "output_type": "stream",
     "text": [
      "Cloning into 'attention-gym'...\n",
      "remote: Enumerating objects: 192, done.\u001b[K\n",
      "remote: Counting objects: 100% (31/31), done.\u001b[K\n",
      "remote: Compressing objects: 100% (17/17), done.\u001b[K\n",
      "remote: Total 192 (delta 18), reused 17 (delta 14), pack-reused 161 (from 1)\u001b[K\n",
      "Receiving objects: 100% (192/192), 79.15 KiB | 2.93 MiB/s, done.\n",
      "Resolving deltas: 100% (77/77), done.\n"
     ]
    }
   ],
   "source": [
    "!git clone https://github.com/pytorch-labs/attention-gym"
   ]
  },
  {
   "cell_type": "code",
   "execution_count": 2,
   "id": "e00de1d6-7245-4712-9940-da0cee274a4d",
   "metadata": {},
   "outputs": [
    {
     "name": "stdout",
     "output_type": "stream",
     "text": [
      "/mnt/nvme1n1p1/MI300-testing/attention-gym\n"
     ]
    }
   ],
   "source": [
    "%cd attention-gym"
   ]
  },
  {
   "cell_type": "code",
   "execution_count": 6,
   "id": "3f965432-a5a7-494a-9125-62df3db44b32",
   "metadata": {},
   "outputs": [
    {
     "name": "stdout",
     "output_type": "stream",
     "text": [
      "\u001b[33mDEPRECATION: Loading egg at /mnt/nvme1n1p1/miniforge3/envs/axolotl/lib/python3.12/site-packages/flash_attn-2.6.3-py3.12-linux-x86_64.egg is deprecated. pip 24.3 will enforce this behaviour change. A possible replacement is to use pip for package installation. Discussion can be found at https://github.com/pypa/pip/issues/12330\u001b[0m\u001b[33m\n",
      "\u001b[0m\u001b[33mDEPRECATION: Loading egg at /mnt/nvme1n1p1/miniforge3/envs/axolotl/lib/python3.12/site-packages/einops-0.8.0-py3.12.egg is deprecated. pip 24.3 will enforce this behaviour change. A possible replacement is to use pip for package installation. Discussion can be found at https://github.com/pypa/pip/issues/12330\u001b[0m\u001b[33m\n",
      "\u001b[0mProcessing /mnt/nvme1n1p1/MI300-testing/attention-gym\n",
      "  Installing build dependencies ... \u001b[?25ldone\n",
      "\u001b[?25h  Getting requirements to build wheel ... \u001b[?25ldone\n",
      "\u001b[?25h  Preparing metadata (pyproject.toml) ... \u001b[?25ldone\n",
      "\u001b[?25hRequirement already satisfied: torch in /home/hotaisle/miniforge3/envs/axolotl/lib/python3.12/site-packages (from attn_gym==0.0.3.dev3+g5475578) (2.5.0+rocm6.2)\n",
      "Requirement already satisfied: filelock in /home/hotaisle/miniforge3/envs/axolotl/lib/python3.12/site-packages (from torch->attn_gym==0.0.3.dev3+g5475578) (3.13.1)\n",
      "Requirement already satisfied: typing-extensions>=4.8.0 in /home/hotaisle/miniforge3/envs/axolotl/lib/python3.12/site-packages (from torch->attn_gym==0.0.3.dev3+g5475578) (4.12.2)\n",
      "Requirement already satisfied: networkx in /home/hotaisle/miniforge3/envs/axolotl/lib/python3.12/site-packages (from torch->attn_gym==0.0.3.dev3+g5475578) (3.2.1)\n",
      "Requirement already satisfied: jinja2 in /home/hotaisle/miniforge3/envs/axolotl/lib/python3.12/site-packages (from torch->attn_gym==0.0.3.dev3+g5475578) (3.1.3)\n",
      "Requirement already satisfied: fsspec in /home/hotaisle/miniforge3/envs/axolotl/lib/python3.12/site-packages (from torch->attn_gym==0.0.3.dev3+g5475578) (2024.6.1)\n",
      "Requirement already satisfied: pytorch-triton-rocm==3.1.0 in /home/hotaisle/miniforge3/envs/axolotl/lib/python3.12/site-packages (from torch->attn_gym==0.0.3.dev3+g5475578) (3.1.0)\n",
      "Requirement already satisfied: setuptools in /home/hotaisle/miniforge3/envs/axolotl/lib/python3.12/site-packages (from torch->attn_gym==0.0.3.dev3+g5475578) (75.1.0)\n",
      "Requirement already satisfied: sympy==1.13.1 in /home/hotaisle/miniforge3/envs/axolotl/lib/python3.12/site-packages (from torch->attn_gym==0.0.3.dev3+g5475578) (1.13.1)\n",
      "Requirement already satisfied: mpmath<1.4,>=1.1.0 in /home/hotaisle/miniforge3/envs/axolotl/lib/python3.12/site-packages (from sympy==1.13.1->torch->attn_gym==0.0.3.dev3+g5475578) (1.3.0)\n",
      "Requirement already satisfied: MarkupSafe>=2.0 in /home/hotaisle/miniforge3/envs/axolotl/lib/python3.12/site-packages (from jinja2->torch->attn_gym==0.0.3.dev3+g5475578) (2.1.5)\n",
      "Building wheels for collected packages: attn_gym\n",
      "  Building wheel for attn_gym (pyproject.toml) ... \u001b[?25ldone\n",
      "\u001b[?25h  Created wheel for attn_gym: filename=attn_gym-0.0.3.dev3+g5475578-py3-none-any.whl size=15180 sha256=cca43b4b2873a8c68053f583ded07260c75a2b913ff694f5e0909a23cfe28b59\n",
      "  Stored in directory: /home/hotaisle/.cache/pip/wheels/84/b6/44/ade7086ee0916bea5ac04c4dde49819b5d35ad1de1a7188c6b\n",
      "Successfully built attn_gym\n",
      "Installing collected packages: attn_gym\n",
      "  Attempting uninstall: attn_gym\n",
      "    Found existing installation: attn_gym 0.0.3.dev3+g5475578\n",
      "    Uninstalling attn_gym-0.0.3.dev3+g5475578:\n",
      "      Successfully uninstalled attn_gym-0.0.3.dev3+g5475578\n",
      "Successfully installed attn_gym-0.0.3.dev3+g5475578\n"
     ]
    }
   ],
   "source": [
    "!pip install ."
   ]
  },
  {
   "cell_type": "code",
   "execution_count": 7,
   "id": "87e0a826-00c9-4ef1-bae1-e7b863469d0c",
   "metadata": {},
   "outputs": [
    {
     "name": "stdout",
     "output_type": "stream",
     "text": [
      "\u001b[33mDEPRECATION: Loading egg at /mnt/nvme1n1p1/miniforge3/envs/axolotl/lib/python3.12/site-packages/flash_attn-2.6.3-py3.12-linux-x86_64.egg is deprecated. pip 24.3 will enforce this behaviour change. A possible replacement is to use pip for package installation. Discussion can be found at https://github.com/pypa/pip/issues/12330\u001b[0m\u001b[33m\n",
      "\u001b[0m\u001b[33mDEPRECATION: Loading egg at /mnt/nvme1n1p1/miniforge3/envs/axolotl/lib/python3.12/site-packages/einops-0.8.0-py3.12.egg is deprecated. pip 24.3 will enforce this behaviour change. A possible replacement is to use pip for package installation. Discussion can be found at https://github.com/pypa/pip/issues/12330\u001b[0m\u001b[33m\n",
      "\u001b[0mCollecting jsonargparse\n",
      "  Using cached jsonargparse-4.33.2-py3-none-any.whl.metadata (12 kB)\n",
      "Requirement already satisfied: PyYAML>=3.13 in /home/hotaisle/miniforge3/envs/axolotl/lib/python3.12/site-packages (from jsonargparse) (6.0.2)\n",
      "Using cached jsonargparse-4.33.2-py3-none-any.whl (208 kB)\n",
      "Installing collected packages: jsonargparse\n",
      "Successfully installed jsonargparse-4.33.2\n"
     ]
    }
   ],
   "source": [
    "!pip install jsonargparse"
   ]
  },
  {
   "cell_type": "code",
   "execution_count": 8,
   "id": "91fa9b12-cd9f-4a69-a386-6b6998d184f1",
   "metadata": {},
   "outputs": [
    {
     "name": "stdout",
     "output_type": "stream",
     "text": [
      "Using the default sparsity block size: 128\n",
      "╔═════════════════════════════════════════════════════════════════════════════════════════╗\n",
      "║                                       Causal Mask                                       ║\n",
      "╚═════════════════════════════════════════════════════════════════════════════════════════╝\n",
      "Correctness check passed ✅\n",
      "+---------------+----------------+-------------------+----------------+-------------------+\n",
      "| Operation     |   FW Time (ms) |   FW FLOPS (TF/s) |   BW Time (ms) |   BW FLOPS (TF/s) |\n",
      "+===============+================+===================+================+===================+\n",
      "| causal FA2    |        10.2031 |            215.52 |        34.9825 |            157.15 |\n",
      "+---------------+----------------+-------------------+----------------+-------------------+\n",
      "| F.sdpa + mask |        28.3655 |             78.74 |       105.037  |             53.16 |\n",
      "+---------------+----------------+-------------------+----------------+-------------------+\n",
      "| flexattention |        10.4929 |            212.85 |        54.6333 |            102.2  |\n",
      "+---------------+----------------+-------------------+----------------+-------------------+\n",
      "\n",
      "Block Mask:\n",
      "BlockMask(shape=(1, 1, 8192, 8192), sparsity=49.22%, \n",
      "(0, 0)\n",
      "░░                              \n",
      "██░░                            \n",
      "████░░                          \n",
      "██████░░                        \n",
      "████████░░                      \n",
      "██████████░░                    \n",
      "████████████░░                  \n",
      "██████████████░░                \n",
      "████████████████░░              \n",
      "██████████████████░░            \n",
      "████████████████████░░          \n",
      "██████████████████████░░        \n",
      "████████████████████████░░      \n",
      "██████████████████████████░░    \n",
      "████████████████████████████░░  \n",
      "██████████████████████████████░░\n",
      ")\n",
      "╔═════════════════════════════════════════════════════════════════════════════════════════╗\n",
      "║                                        Alibi Mod                                        ║\n",
      "╚═════════════════════════════════════════════════════════════════════════════════════════╝\n",
      "+---------------+----------------+-------------------+----------------+-------------------+\n",
      "| Operation     |   FW Time (ms) |   FW FLOPS (TF/s) |   BW Time (ms) |   BW FLOPS (TF/s) |\n",
      "+===============+================+===================+================+===================+\n",
      "| causal FA2    |        10.2503 |            214.53 |        35.1792 |            156.27 |\n",
      "+---------------+----------------+-------------------+----------------+-------------------+\n",
      "| F.sdpa + mask |        28.9311 |            152.02 |       107.3    |            102.47 |\n",
      "+---------------+----------------+-------------------+----------------+-------------------+\n",
      "| flexattention |        13.6577 |            322.02 |       108.418  |            101.41 |\n",
      "+---------------+----------------+-------------------+----------------+-------------------+\n",
      "\n",
      "Block Mask:\n",
      "None\n",
      "╔═════════════════════════════════════════════════════════════════════════════════════════╗\n",
      "║                                   Sliding Window 1024                                   ║\n",
      "╚═════════════════════════════════════════════════════════════════════════════════════════╝\n",
      "Traceback (most recent call last):\n",
      "  File \"/mnt/nvme1n1p1/MI300-testing/attention-gym/examples/benchmark.py\", line 256, in <module>\n",
      "    main(**vars(args))\n",
      "  File \"/mnt/nvme1n1p1/MI300-testing/attention-gym/examples/benchmark.py\", line 234, in main\n",
      "    available_examples[ex]()\n",
      "  File \"/mnt/nvme1n1p1/MI300-testing/attention-gym/examples/benchmark.py\", line 216, in <lambda>\n",
      "    \"sliding_window\": lambda: test_mask(mask_mod=generate_sliding_window(window_size=1024)),\n",
      "                              ^^^^^^^^^^^^^^^^^^^^^^^^^^^^^^^^^^^^^^^^^^^^^^^^^^^^^^^^^^^^^\n",
      "  File \"/mnt/nvme1n1p1/MI300-testing/attention-gym/examples/benchmark.py\", line 140, in test_mask\n",
      "    torch.testing.assert_close(flex, sdpa_mask, atol=1e-1, rtol=1e-2)\n",
      "  File \"/home/hotaisle/miniforge3/envs/axolotl/lib/python3.12/site-packages/torch/testing/_comparison.py\", line 1530, in assert_close\n",
      "    raise error_metas[0].to_error(msg)\n",
      "AssertionError: Tensor-likes are not close!\n",
      "\n",
      "Mismatched elements: 116391936 / 134217728 (86.7%)\n",
      "Greatest absolute difference: nan at index (0, 0, 1088, 0) (up to 0.1 allowed)\n",
      "Greatest relative difference: nan at index (0, 0, 1088, 0) (up to 0.01 allowed)\n"
     ]
    }
   ],
   "source": [
    "!python examples/benchmark.py"
   ]
  }
 ],
 "metadata": {
  "kernelspec": {
   "display_name": "Python [conda env:axolotl]",
   "language": "python",
   "name": "conda-env-axolotl-py"
  },
  "language_info": {
   "codemirror_mode": {
    "name": "ipython",
    "version": 3
   },
   "file_extension": ".py",
   "mimetype": "text/x-python",
   "name": "python",
   "nbconvert_exporter": "python",
   "pygments_lexer": "ipython3",
   "version": "3.12.7"
  }
 },
 "nbformat": 4,
 "nbformat_minor": 5
}
