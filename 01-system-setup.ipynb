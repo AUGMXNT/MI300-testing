{
 "cells": [
  {
   "cell_type": "markdown",
   "id": "f38a0a51-5f01-449a-a96b-7cc0cd986ff9",
   "metadata": {},
   "source": [
    "# Setup\n",
    "See the [README.md](README.md) for **Install** instructions, since we can't switch kernels internally."
   ]
  },
  {
   "cell_type": "code",
   "execution_count": 3,
   "id": "93bb2504-4441-4b37-aeba-e1c80e04322a",
   "metadata": {},
   "outputs": [
    {
     "name": "stdout",
     "output_type": "stream",
     "text": [
      "Requirement already satisfied: huggingface-hub in /home/hotaisle/miniforge3/lib/python3.12/site-packages (0.25.1)\n",
      "Requirement already satisfied: filelock in /home/hotaisle/miniforge3/lib/python3.12/site-packages (from huggingface-hub) (3.16.1)\n",
      "Requirement already satisfied: fsspec>=2023.5.0 in /home/hotaisle/miniforge3/lib/python3.12/site-packages (from huggingface-hub) (2024.6.1)\n",
      "Requirement already satisfied: packaging>=20.9 in /home/hotaisle/miniforge3/lib/python3.12/site-packages (from huggingface-hub) (24.1)\n",
      "Requirement already satisfied: pyyaml>=5.1 in /home/hotaisle/miniforge3/lib/python3.12/site-packages (from huggingface-hub) (6.0.2)\n",
      "Requirement already satisfied: requests in /home/hotaisle/miniforge3/lib/python3.12/site-packages (from huggingface-hub) (2.32.3)\n",
      "Requirement already satisfied: tqdm>=4.42.1 in /home/hotaisle/miniforge3/lib/python3.12/site-packages (from huggingface-hub) (4.66.5)\n",
      "Requirement already satisfied: typing-extensions>=3.7.4.3 in /home/hotaisle/miniforge3/lib/python3.12/site-packages (from huggingface-hub) (4.12.2)\n",
      "Requirement already satisfied: charset-normalizer<4,>=2 in /home/hotaisle/miniforge3/lib/python3.12/site-packages (from requests->huggingface-hub) (3.3.2)\n",
      "Requirement already satisfied: idna<4,>=2.5 in /home/hotaisle/miniforge3/lib/python3.12/site-packages (from requests->huggingface-hub) (3.10)\n",
      "Requirement already satisfied: urllib3<3,>=1.21.1 in /home/hotaisle/miniforge3/lib/python3.12/site-packages (from requests->huggingface-hub) (2.2.3)\n",
      "Requirement already satisfied: certifi>=2017.4.17 in /home/hotaisle/miniforge3/lib/python3.12/site-packages (from requests->huggingface-hub) (2024.8.30)\n"
     ]
    }
   ],
   "source": [
    "# HF\n",
    "!pip install huggingface-hub"
   ]
  },
  {
   "cell_type": "code",
   "execution_count": null,
   "id": "5b732215-8f66-47f0-a4ce-260be214039c",
   "metadata": {},
   "outputs": [],
   "source": [
    "# Just an example \n",
    "!huggingface-cli login --token <TOKEN> --add-to-git-credential\n",
    "!huggingface-cli download <MODEL>"
   ]
  }
 ],
 "metadata": {
  "kernelspec": {
   "display_name": "Python [conda env:base] *",
   "language": "python",
   "name": "conda-base-py"
  },
  "language_info": {
   "codemirror_mode": {
    "name": "ipython",
    "version": 3
   },
   "file_extension": ".py",
   "mimetype": "text/x-python",
   "name": "python",
   "nbconvert_exporter": "python",
   "pygments_lexer": "ipython3",
   "version": "3.12.6"
  }
 },
 "nbformat": 4,
 "nbformat_minor": 5
}
